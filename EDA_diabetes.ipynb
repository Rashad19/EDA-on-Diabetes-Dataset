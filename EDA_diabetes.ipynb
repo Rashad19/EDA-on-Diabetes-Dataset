{
 "cells": [
  {
   "cell_type": "markdown",
   "id": "771a9f52",
   "metadata": {},
   "source": [
    "# Exploratory Data Analysis (EDA) for Diabetes dataset\n",
    "\n",
    "## EDA\n",
    "\n",
    "- Useful for understanding data visually.\n",
    "- determining whether feature scaling is required.\n",
    "- and more..\n",
    "\n",
    "#### Method summary\n",
    "\n",
    "1. Outlier detection and removal\n",
    "\n",
    "2. 1D Histogram plots to understand the distribution of each feature\n",
    "\n",
    "3. Bee Swarm plots\n",
    "\n",
    "4. Violin plots"
   ]
  },
  {
   "cell_type": "code",
   "execution_count": 3,
   "id": "ae92653e",
   "metadata": {},
   "outputs": [],
   "source": [
    "data = pd.read_csv(\"clean_diabetes.csv\")"
   ]
  },
  {
   "cell_type": "code",
   "execution_count": 6,
   "id": "e3b7924e",
   "metadata": {},
   "outputs": [
    {
     "data": {
      "text/html": [
       "<div>\n",
       "<style scoped>\n",
       "    .dataframe tbody tr th:only-of-type {\n",
       "        vertical-align: middle;\n",
       "    }\n",
       "\n",
       "    .dataframe tbody tr th {\n",
       "        vertical-align: top;\n",
       "    }\n",
       "\n",
       "    .dataframe thead th {\n",
       "        text-align: right;\n",
       "    }\n",
       "</style>\n",
       "<table border=\"1\" class=\"dataframe\">\n",
       "  <thead>\n",
       "    <tr style=\"text-align: right;\">\n",
       "      <th></th>\n",
       "      <th>Glucose</th>\n",
       "      <th>BMI</th>\n",
       "      <th>Age</th>\n",
       "      <th>Outcome</th>\n",
       "    </tr>\n",
       "  </thead>\n",
       "  <tbody>\n",
       "    <tr>\n",
       "      <th>0</th>\n",
       "      <td>148</td>\n",
       "      <td>33.6</td>\n",
       "      <td>50</td>\n",
       "      <td>1</td>\n",
       "    </tr>\n",
       "    <tr>\n",
       "      <th>1</th>\n",
       "      <td>85</td>\n",
       "      <td>26.6</td>\n",
       "      <td>31</td>\n",
       "      <td>0</td>\n",
       "    </tr>\n",
       "    <tr>\n",
       "      <th>2</th>\n",
       "      <td>183</td>\n",
       "      <td>23.3</td>\n",
       "      <td>32</td>\n",
       "      <td>1</td>\n",
       "    </tr>\n",
       "    <tr>\n",
       "      <th>3</th>\n",
       "      <td>89</td>\n",
       "      <td>28.1</td>\n",
       "      <td>21</td>\n",
       "      <td>0</td>\n",
       "    </tr>\n",
       "    <tr>\n",
       "      <th>4</th>\n",
       "      <td>137</td>\n",
       "      <td>43.1</td>\n",
       "      <td>33</td>\n",
       "      <td>1</td>\n",
       "    </tr>\n",
       "    <tr>\n",
       "      <th>...</th>\n",
       "      <td>...</td>\n",
       "      <td>...</td>\n",
       "      <td>...</td>\n",
       "      <td>...</td>\n",
       "    </tr>\n",
       "    <tr>\n",
       "      <th>747</th>\n",
       "      <td>101</td>\n",
       "      <td>32.9</td>\n",
       "      <td>63</td>\n",
       "      <td>0</td>\n",
       "    </tr>\n",
       "    <tr>\n",
       "      <th>748</th>\n",
       "      <td>122</td>\n",
       "      <td>36.8</td>\n",
       "      <td>27</td>\n",
       "      <td>0</td>\n",
       "    </tr>\n",
       "    <tr>\n",
       "      <th>749</th>\n",
       "      <td>121</td>\n",
       "      <td>26.2</td>\n",
       "      <td>30</td>\n",
       "      <td>0</td>\n",
       "    </tr>\n",
       "    <tr>\n",
       "      <th>750</th>\n",
       "      <td>126</td>\n",
       "      <td>30.1</td>\n",
       "      <td>47</td>\n",
       "      <td>1</td>\n",
       "    </tr>\n",
       "    <tr>\n",
       "      <th>751</th>\n",
       "      <td>93</td>\n",
       "      <td>30.4</td>\n",
       "      <td>23</td>\n",
       "      <td>0</td>\n",
       "    </tr>\n",
       "  </tbody>\n",
       "</table>\n",
       "<p>752 rows × 4 columns</p>\n",
       "</div>"
      ],
      "text/plain": [
       "     Glucose   BMI  Age  Outcome\n",
       "0        148  33.6   50        1\n",
       "1         85  26.6   31        0\n",
       "2        183  23.3   32        1\n",
       "3         89  28.1   21        0\n",
       "4        137  43.1   33        1\n",
       "..       ...   ...  ...      ...\n",
       "747      101  32.9   63        0\n",
       "748      122  36.8   27        0\n",
       "749      121  26.2   30        0\n",
       "750      126  30.1   47        1\n",
       "751       93  30.4   23        0\n",
       "\n",
       "[752 rows x 4 columns]"
      ]
     },
     "metadata": {},
     "output_type": "display_data"
    }
   ],
   "source": [
    "display(data)"
   ]
  },
  {
   "cell_type": "markdown",
   "id": "f5d84c2a",
   "metadata": {},
   "source": [
    "### Histograms"
   ]
  },
  {
   "cell_type": "code",
   "execution_count": 28,
   "id": "50fbf787",
   "metadata": {},
   "outputs": [
    {
     "data": {
      "text/plain": [
       "0      148\n",
       "1       85\n",
       "2      183\n",
       "3       89\n",
       "4      137\n",
       "      ... \n",
       "747    101\n",
       "748    122\n",
       "749    121\n",
       "750    126\n",
       "751     93\n",
       "Name: Glucose, Length: 752, dtype: int64"
      ]
     },
     "metadata": {},
     "output_type": "display_data"
    },
    {
     "data": {
      "text/plain": [
       "0      33.6\n",
       "1      26.6\n",
       "2      23.3\n",
       "3      28.1\n",
       "4      43.1\n",
       "       ... \n",
       "747    32.9\n",
       "748    36.8\n",
       "749    26.2\n",
       "750    30.1\n",
       "751    30.4\n",
       "Name: BMI, Length: 752, dtype: float64"
      ]
     },
     "metadata": {},
     "output_type": "display_data"
    },
    {
     "data": {
      "text/plain": [
       "0      50\n",
       "1      31\n",
       "2      32\n",
       "3      21\n",
       "4      33\n",
       "       ..\n",
       "747    63\n",
       "748    27\n",
       "749    30\n",
       "750    47\n",
       "751    23\n",
       "Name: Age, Length: 752, dtype: int64"
      ]
     },
     "metadata": {},
     "output_type": "display_data"
    }
   ],
   "source": [
    "# Extracting the feature vectors from the dataframe.\n",
    "\n",
    "f1 = data.iloc[:, 0]\n",
    "f2 = data.iloc[:, 1]\n",
    "f3 = data.iloc[:, 2]\n",
    "display(f1, f2, f3)"
   ]
  },
  {
   "cell_type": "code",
   "execution_count": 13,
   "id": "74ce3039",
   "metadata": {},
   "outputs": [
    {
     "data": {
      "image/png": "[encoded data removed]",
      "text/plain": [
       "<Figure size 432x288 with 1 Axes>"
      ]
     },
     "metadata": {
      "needs_background": "light"
     },
     "output_type": "display_data"
    }
   ],
   "source": [
    "plt.hist(f1, label=\"Glucose\")\n",
    "plt.hist(f2, label=\"BMI\")\n",
    "plt.hist(f3, label=\"Age\")\n",
    "plt.ylabel(\"Frequency\")\n",
    "plt.show();"
   ]
  },
  {
   "cell_type": "code",
   "execution_count": 16,
   "id": "51bd8ec7",
   "metadata": {},
   "outputs": [
    {
     "data": {
      "image/png": "[encoded data removed]",
      "text/plain": [
       "<Figure size 432x288 with 1 Axes>"
      ]
     },
     "metadata": {
      "needs_background": "light"
     },
     "output_type": "display_data"
    }
   ],
   "source": [
    "bins = np.linspace(min(f1.min(), f2.min(), f3.min()), max(f1.max(), f2.max(), f3.max()), 45)\n",
    "\n",
    "plt.hist(f1, bins = bins, label=\"Glucose\")\n",
    "plt.hist(f2, bins = bins, label=\"BMI\")\n",
    "plt.hist(f3, bins = bins, label=\"Age\")\n",
    "plt.ylabel(\"Frequency\")\n",
    "plt.show();"
   ]
  },
  {
   "cell_type": "code",
   "execution_count": 27,
   "id": "f76d9ccc",
   "metadata": {},
   "outputs": [
    {
     "data": {
      "image/png": "[encoded data removed]",
      "text/plain": [
       "<Figure size 432x288 with 1 Axes>"
      ]
     },
     "metadata": {
      "needs_background": "light"
     },
     "output_type": "display_data"
    }
   ],
   "source": [
    "bins = np.linspace(min(f1.min(), f2.min(), f3.min()), max(f1.max(), f2.max(), f3.max()), 45)\n",
    "\n",
    "plt.hist(f1, bins = bins, histtype = \"step\", ls=\":\", density = True, label=\"Glucose\")\n",
    "plt.hist(f2, bins = bins, histtype = \"step\", ls=\":\", density = True,label=\"BMI\")\n",
    "plt.hist(f3, bins = bins, histtype = \"step\", ls=\":\", density = True,label=\"Age\")\n",
    "plt.ylabel(\"Probability\")\n",
    "plt.show();"
   ]
  },
  {
   "cell_type": "code",
   "execution_count": null,
   "id": "33939abb",
   "metadata": {},
   "outputs": [],
   "source": []
  }
 ],
 "metadata": {
  "kernelspec": {
   "display_name": "Python 3 (ipykernel)",
   "language": "python",
   "name": "python3"
  },
  "language_info": {
   "codemirror_mode": {
    "name": "ipython",
    "version": 3
   },
   "file_extension": ".py",
   "mimetype": "text/x-python",
   "name": "python",
   "nbconvert_exporter": "python",
   "pygments_lexer": "ipython3",
   "version": "3.8.3"
  }
 },
 "nbformat": 4,
 "nbformat_minor": 5
}
